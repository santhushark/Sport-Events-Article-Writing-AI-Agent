{
 "cells": [
  {
   "cell_type": "code",
   "execution_count": 1,
   "metadata": {},
   "outputs": [
    {
     "name": "stdout",
     "output_type": "stream",
     "text": [
      "hello\n"
     ]
    }
   ],
   "source": [
    "print(\"hello\")"
   ]
  },
  {
   "cell_type": "code",
   "execution_count": 2,
   "metadata": {},
   "outputs": [],
   "source": [
    "from tavily import TavilyClient\n",
    "\n",
    "from dotenv import load_dotenv\n",
    "\n",
    "load_dotenv()\n",
    "\n",
    "client = TavilyClient()"
   ]
  },
  {
   "cell_type": "code",
   "execution_count": 3,
   "metadata": {},
   "outputs": [],
   "source": [
    "query = \"India vs New Zealand Champions Trophy 2025 Cricket Final Match Summary and results\"\n",
    "res = client.search(query, search_depth=\"advanced\", topic=\"news\", days= 2, max_results=5, include_answer=True)"
   ]
  },
  {
   "cell_type": "code",
   "execution_count": 5,
   "metadata": {},
   "outputs": [
    {
     "data": {
      "text/plain": [
       "{'query': 'India vs New Zealand Champions Trophy 2025 Cricket Final Match Summary and results',\n",
       " 'follow_up_questions': None,\n",
       " 'answer': \"India defeated New Zealand by four wickets in the final of the ICC Champions Trophy 2025 held in Dubai on March 9, 2025. India posted a target of 251 after New Zealand managed to score 251/7. Rohit Sharma top-scored for India with 76 runs, while Shubman Gill contributed with a partnership of 105 runs. New Zealand's Rachin Ravindra and Will Young shared a 57-run stand. This victory marked India's third Champions Trophy title, following their wins in 2002 and 2013.\",\n",
       " 'images': [],\n",
       " 'results': [{'url': 'https://sports.ndtv.com/icc-champions-trophy-2025/india-drop-sitters-in-champions-trophy-2025-final-vs-nz-fans-anushka-frustrated-watch-7884986',\n",
       "   'title': 'Watch: India Drop Sitters In Champions Trophy 2025 Final vs NZ. Fans, Anushka Sharma Frustrated - NDTV Sports',\n",
       "   'score': 0.93666285,\n",
       "   'published_date': 'Sun, 09 Mar 2025 13:32:49 GMT',\n",
       "   'content': 'Final, ICC Champions Trophy, 2025 at Dubai, Mar 9, 2025  India 254/6 (49.0)  New Zealand 251/7 (50.0) India beat New Zealand by 4 wickets Sports Home ICC Champions Trophy 2025 News Watch India Drop Sitters In Champions Trophy 2025 Final vs NZ Fans Anushka Sharma Frustrated Team India dropped four easy chances in the Champions Trophy final on Sunday as New Zealand overcame a mini-collapse to post a total of 251/7 in Dubai. India Cricket Team New Zealand Cricket Team Virat Kohli Rohit Sharma Shubman Gill Shreyas Iyer Mohammad Shami ICC Champions Trophy 2025 Cricket Formula 1 Tennis Hockey Badminton Golf Nba Kabaddi Shooting Swimming Table Tennis'},\n",
       "  {'url': 'https://www.skysports.com/cricket/news/12040/13324931/champions-trophy-2025-india-beat-new-zealand-by-four-wickets-in-tense-final-in-dubai',\n",
       "   'title': 'Champions Trophy 2025: India beat New Zealand by four wickets in tense final in Dubai - Sky Sports',\n",
       "   'score': 0.9240941,\n",
       "   'published_date': 'Sun, 09 Mar 2025 17:05:36 GMT',\n",
       "   'content': \"Champions Trophy 2025: India beat New Zealand by four wickets in tense final in Dubai | Cricket News | Sky Sports Champions Trophy 2025: India beat New Zealand by four wickets in tense final in Dubai India's captain Rohit Sharma top-scored with 76 and shared an opening partnership alongside Shubman Gill worth 105 runs; New Zealand's Rachin Ravindra (37) and Will Young (15) shared a 57-run stand to help their side post 251-7; India's third Champions Trophy after wins in 2002 and 2013 Highlights of the ICC Champions Trophy final between India and New Zealand India beat New Zealand in a tense encounter by four wickets to claim the Champions Trophy title for the third time at the Dubai International Stadium on Sunday.\"},\n",
       "  {'url': 'https://www.skysports.com/cricket/news/32461/13324931/champions-trophy-2025-india-beat-new-zealand-by-four-wickets-in-tense-final-in-dubai',\n",
       "   'title': 'Champions Trophy 2025: India beat New Zealand by four wickets in tense final in Dubai - Sky Sports',\n",
       "   'score': 0.9240941,\n",
       "   'published_date': 'Sun, 09 Mar 2025 17:05:32 GMT',\n",
       "   'content': \"Champions Trophy 2025: India beat New Zealand by four wickets in tense final in Dubai | Cricket News | Sky Sports Champions Trophy 2025: India beat New Zealand by four wickets in tense final in Dubai India's captain Rohit Sharma top-scored with 76 and shared an opening partnership alongside Shubman Gill worth 105 runs; New Zealand's Rachin Ravindra (37) and Will Young (15) shared a 57-run stand to help their side post 251-7; India's third Champions Trophy after wins in 2002 and 2013 Highlights of the ICC Champions Trophy final between India and New Zealand India beat New Zealand in a tense encounter by four wickets to claim the Champions Trophy title for the third time at the Dubai International Stadium on Sunday.\"},\n",
       "  {'url': 'https://www.telecomasia.net/bd/amp/blog/ct2025-final-preview-india-and-new-zealand-battle-for-glory-and-redemption/',\n",
       "   'title': 'CT2025 Final Preview: India and New Zealand Battle for Glory and Redemption - Telecom Asia',\n",
       "   'score': 0.8941352,\n",
       "   'published_date': 'Sat, 08 Mar 2025 13:23:08 GMT',\n",
       "   'content': \"Login How to Login A dominant India take on resilient New Zealand in the final of the 2025 Champions Trophy in Dubai on Sunday with both teams having to settle a few old scores. India are undefeated in the Champions Trophy 2025 while New Zealand's lone setback came against the Men in Blue. Overall, in 119 matches played so far, India have won 61 while New Zealand claimed victories in 50. Where to Watch India vs New Zealand 2025 ICC Champions Trophy: Live Stream, Odds, and Match Details Varun Chakravarthy a Big Threat in Champions Trophy final: New Zealand coach Gary Stead Ravindra, Williamson Hit Hundreds as New Zealand set up Champions Trophy final with India 12bet App\"},\n",
       "  {'url': 'https://www.telecomasia.net/in/amp/blog/ct2025-final-preview-india-and-new-zealand-battle-for-glory-and-redemption/',\n",
       "   'title': 'CT2025 Final Preview: India and New Zealand Battle for Glory and Redemption - Telecom Asia',\n",
       "   'score': 0.8934678,\n",
       "   'published_date': 'Sat, 08 Mar 2025 13:28:13 GMT',\n",
       "   'content': \"Login How to Login How to Login A dominant India take on resilient New Zealand in the final of the 2025 Champions Trophy in Dubai on Sunday with both teams having to settle a few old scores. India are undefeated in the Champions Trophy 2025 while New Zealand's lone setback came against the Men in Blue. Overall, in 119 matches played so far, India have won 61 while New Zealand claimed victories in 50. Where to Watch India vs New Zealand 2025 ICC Champions Trophy: Live Stream, Odds, and Match Details Varun Chakravarthy a Big Threat in Champions Trophy final: New Zealand coach Gary Stead Ravindra, Williamson Hit Hundreds as New Zealand set up Champions Trophy final with India\"}],\n",
       " 'response_time': 0.97}"
      ]
     },
     "execution_count": 5,
     "metadata": {},
     "output_type": "execute_result"
    }
   ],
   "source": [
    "res"
   ]
  },
  {
   "cell_type": "code",
   "execution_count": 7,
   "metadata": {},
   "outputs": [
    {
     "name": "stdout",
     "output_type": "stream",
     "text": [
      "web-search-summary:India defeated New Zealand by four wickets in the final of the ICC Champions Trophy 2025 held in Dubai on March 9, 2025. India posted a target of 251 after New Zealand managed to score 251/7. Rohit Sharma top-scored for India with 76 runs, while Shubman Gill contributed with a partnership of 105 runs. New Zealand's Rachin Ravindra and Will Young shared a 57-run stand. This victory marked India's third Champions Trophy title, following their wins in 2002 and 2013.\n",
      "web-search-source-1: Final, ICC Champions Trophy, 2025 at Dubai, Mar 9, 2025  India 254/6 (49.0)  New Zealand 251/7 (50.0) India beat New Zealand by 4 wickets Sports Home ICC Champions Trophy 2025 News Watch India Drop Sitters In Champions Trophy 2025 Final vs NZ Fans Anushka Sharma Frustrated Team India dropped four easy chances in the Champions Trophy final on Sunday as New Zealand overcame a mini-collapse to post a total of 251/7 in Dubai. India Cricket Team New Zealand Cricket Team Virat Kohli Rohit Sharma Shubman Gill Shreyas Iyer Mohammad Shami ICC Champions Trophy 2025 Cricket Formula 1 Tennis Hockey Badminton Golf Nba Kabaddi Shooting Swimming Table Tennis\n",
      "web-search-source-2: Champions Trophy 2025: India beat New Zealand by four wickets in tense final in Dubai | Cricket News | Sky Sports Champions Trophy 2025: India beat New Zealand by four wickets in tense final in Dubai India's captain Rohit Sharma top-scored with 76 and shared an opening partnership alongside Shubman Gill worth 105 runs; New Zealand's Rachin Ravindra (37) and Will Young (15) shared a 57-run stand to help their side post 251-7; India's third Champions Trophy after wins in 2002 and 2013 Highlights of the ICC Champions Trophy final between India and New Zealand India beat New Zealand in a tense encounter by four wickets to claim the Champions Trophy title for the third time at the Dubai International Stadium on Sunday.\n",
      "web-search-source-3: Champions Trophy 2025: India beat New Zealand by four wickets in tense final in Dubai | Cricket News | Sky Sports Champions Trophy 2025: India beat New Zealand by four wickets in tense final in Dubai India's captain Rohit Sharma top-scored with 76 and shared an opening partnership alongside Shubman Gill worth 105 runs; New Zealand's Rachin Ravindra (37) and Will Young (15) shared a 57-run stand to help their side post 251-7; India's third Champions Trophy after wins in 2002 and 2013 Highlights of the ICC Champions Trophy final between India and New Zealand India beat New Zealand in a tense encounter by four wickets to claim the Champions Trophy title for the third time at the Dubai International Stadium on Sunday.\n",
      "web-search-source-4: Login How to Login A dominant India take on resilient New Zealand in the final of the 2025 Champions Trophy in Dubai on Sunday with both teams having to settle a few old scores. India are undefeated in the Champions Trophy 2025 while New Zealand's lone setback came against the Men in Blue. Overall, in 119 matches played so far, India have won 61 while New Zealand claimed victories in 50. Where to Watch India vs New Zealand 2025 ICC Champions Trophy: Live Stream, Odds, and Match Details Varun Chakravarthy a Big Threat in Champions Trophy final: New Zealand coach Gary Stead Ravindra, Williamson Hit Hundreds as New Zealand set up Champions Trophy final with India 12bet App\n",
      "web-search-source-5: Login How to Login How to Login A dominant India take on resilient New Zealand in the final of the 2025 Champions Trophy in Dubai on Sunday with both teams having to settle a few old scores. India are undefeated in the Champions Trophy 2025 while New Zealand's lone setback came against the Men in Blue. Overall, in 119 matches played so far, India have won 61 while New Zealand claimed victories in 50. Where to Watch India vs New Zealand 2025 ICC Champions Trophy: Live Stream, Odds, and Match Details Varun Chakravarthy a Big Threat in Champions Trophy final: New Zealand coach Gary Stead Ravindra, Williamson Hit Hundreds as New Zealand set up Champions Trophy final with India\n",
      "\n"
     ]
    }
   ],
   "source": [
    "content = \"\"\n",
    "content+= \"web-search-summary:\" + res[\"answer\"] + \"\\n\"\n",
    "for i in range(5):\n",
    "    content+= f\"web-search-source-{i+1}: \" + res[\"results\"][i][\"content\"] + \"\\n\"\n",
    "\n",
    "print(content)"
   ]
  }
 ],
 "metadata": {
  "kernelspec": {
   "display_name": ".venv",
   "language": "python",
   "name": "python3"
  },
  "language_info": {
   "codemirror_mode": {
    "name": "ipython",
    "version": 3
   },
   "file_extension": ".py",
   "mimetype": "text/x-python",
   "name": "python",
   "nbconvert_exporter": "python",
   "pygments_lexer": "ipython3",
   "version": "3.10.12"
  }
 },
 "nbformat": 4,
 "nbformat_minor": 2
}
